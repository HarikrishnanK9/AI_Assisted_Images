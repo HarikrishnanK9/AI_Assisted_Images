{
  "nbformat": 4,
  "nbformat_minor": 0,
  "metadata": {
    "colab": {
      "provenance": [],
      "gpuType": "T4",
      "authorship_tag": "ABX9TyNFPAdoKkXE6PDIrZj0xqeI",
      "include_colab_link": true
    },
    "kernelspec": {
      "name": "python3",
      "display_name": "Python 3"
    },
    "language_info": {
      "name": "python"
    },
    "accelerator": "GPU"
  },
  "cells": [
    {
      "cell_type": "markdown",
      "metadata": {
        "id": "view-in-github",
        "colab_type": "text"
      },
      "source": [
        "<a href=\"https://colab.research.google.com/github/HarikrishnanK9/AI_Assisted_Images/blob/main/Semantic_Search.ipynb\" target=\"_parent\"><img src=\"https://colab.research.google.com/assets/colab-badge.svg\" alt=\"Open In Colab\"/></a>"
      ]
    },
    {
      "cell_type": "code",
      "execution_count": null,
      "metadata": {
        "id": "YjD-utX8lqRm"
      },
      "outputs": [],
      "source": [
        "import pandas as pd\n",
        "import chromadb\n",
        "from sentence_transformers import SentenceTransformer\n",
        "import numpy as np\n",
        "import os"
      ]
    },
    {
      "cell_type": "code",
      "source": [
        "df=pd.read_csv('./data/oscars.csv')\n",
        "df"
      ],
      "metadata": {
        "id": "0z4y3Esyl77W"
      },
      "execution_count": null,
      "outputs": []
    },
    {
      "cell_type": "code",
      "source": [
        "df=df.loc[df['year_ceremony'] == 2023]\n",
        "df"
      ],
      "metadata": {
        "id": "pDRhQIs_l96i"
      },
      "execution_count": null,
      "outputs": []
    },
    {
      "cell_type": "code",
      "source": [
        "df=df.dropna(subset=['film'])\n",
        "df.loc[:, 'category'] = df['category'].str.lower()\n",
        "df"
      ],
      "metadata": {
        "id": "aLneNR1Yl98j"
      },
      "execution_count": null,
      "outputs": []
    },
    {
      "cell_type": "code",
      "source": [
        "df.loc[:, 'text'] = df['name'] + ' got nominated under the category, ' + df['category'] + ', for the film ' + df['film'] + ' to win the award'\n",
        "df.loc[df['winner'] == False, 'text'] = df['name'] + ' got nominated under the category, ' + df['category'] + ', for the film ' + df['film'] + ' but did not win'\n",
        "df"
      ],
      "metadata": {
        "id": "lMTIkHIil9-p"
      },
      "execution_count": null,
      "outputs": []
    },
    {
      "cell_type": "code",
      "source": [
        "client = chromadb.Client()\n",
        "collection = client.get_or_create_collection(\"oscars-2023\")"
      ],
      "metadata": {
        "id": "IGVqHKz_l-A0"
      },
      "execution_count": null,
      "outputs": []
    },
    {
      "cell_type": "code",
      "source": [
        "docs=df[\"text\"].tolist()"
      ],
      "metadata": {
        "id": "PZNjxL_7l-C2"
      },
      "execution_count": null,
      "outputs": []
    },
    {
      "cell_type": "code",
      "source": [
        "ids= [str(x) for x in df.index.tolist()]"
      ],
      "metadata": {
        "id": "ADOOPZm9l-E7"
      },
      "execution_count": null,
      "outputs": []
    },
    {
      "cell_type": "code",
      "source": [
        "collection.add(\n",
        "    documents=docs,\n",
        "    ids=ids\n",
        ")"
      ],
      "metadata": {
        "id": "8FFXXSDBl-Gw"
      },
      "execution_count": null,
      "outputs": []
    },
    {
      "cell_type": "code",
      "source": [
        "results = collection.query(\n",
        "    query_texts=[\"RRR\"],\n",
        "    n_results=1\n",
        ")"
      ],
      "metadata": {
        "id": "4BKj3IBul-Ik"
      },
      "execution_count": null,
      "outputs": []
    },
    {
      "cell_type": "code",
      "source": [
        "print(results['documents'])\n"
      ],
      "metadata": {
        "id": "hG3d-OZDl-K3"
      },
      "execution_count": null,
      "outputs": []
    },
    {
      "cell_type": "code",
      "source": [],
      "metadata": {
        "id": "fpVIVb2-l-M5"
      },
      "execution_count": null,
      "outputs": []
    },
    {
      "cell_type": "code",
      "source": [],
      "metadata": {
        "id": "iZWmcqn0l-PA"
      },
      "execution_count": null,
      "outputs": []
    },
    {
      "cell_type": "code",
      "source": [],
      "metadata": {
        "id": "Fv4v84gFl-R3"
      },
      "execution_count": null,
      "outputs": []
    }
  ]
}